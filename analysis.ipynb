{
 "cells": [
  {
   "cell_type": "code",
   "execution_count": 1,
   "metadata": {
    "collapsed": false
   },
   "outputs": [
    {
     "name": "stdout",
     "output_type": "stream",
     "text": [
      "Loading precomputed data...\n"
     ]
    },
    {
     "data": {
      "text/plain": [
       "((814, 3350), (776, 3350))"
      ]
     },
     "execution_count": 1,
     "metadata": {},
     "output_type": "execute_result"
    }
   ],
   "source": [
    "import os\n",
    "\n",
    "from utils import get_dataset, read_paths, pickle_data, unpickle_data\n",
    "from desc_calculators import compute_fg_2D_pharm\n",
    "\n",
    "data_antidecoys = None\n",
    "data_bidirectional = None\n",
    "reload = False\n",
    "if not os.path.exists('data_antidecoys.pickle') or reload:\n",
    "    print('Creating dataset. This may take a while...')\n",
    "    data_antidecoys = get_dataset(read_paths('antidecoys_data/paths.pickle'), compute_fg_2D_pharm)\n",
    "    data_bidirectional = get_dataset(read_paths('bidirectional_data/paths.pickle'), compute_fg_2D_pharm)\n",
    "    data_antidecoys.insert(1, 'Type', [1] * data_antidecoys.shape[0])\n",
    "    data_bidirectional.insert(1, 'Type', [0] * data_bidirectional.shape[0])\n",
    "    pickle_data(data_antidecoys, 'data_antidecoys.pickle')\n",
    "    pickle_data(data_bidirectional, 'data_bidirectional.pickle')\n",
    "else:\n",
    "    print('Loading precomputed data...')\n",
    "    data_antidecoys = unpickle_data('data_antidecoys.pickle')\n",
    "    data_bidirectional = unpickle_data('data_bidirectional.pickle')\n",
    "\n",
    "data_antidecoys.shape, data_bidirectional.shape"
   ]
  },
  {
   "cell_type": "code",
   "execution_count": 3,
   "metadata": {
    "collapsed": false
   },
   "outputs": [],
   "source": [
    "import pandas as pd\n",
    "\n",
    "data = pd.concat([data_antidecoys, data_bidirectional], axis=0)"
   ]
  },
  {
   "cell_type": "code",
   "execution_count": 5,
   "metadata": {
    "collapsed": false
   },
   "outputs": [
    {
     "name": "stderr",
     "output_type": "stream",
     "text": [
      "/home/sichom/software/miniconda/envs/antidecoys-analysis/lib/python3.5/site-packages/sklearn/externals/joblib/hashing.py:197: DeprecationWarning: Changing the shape of non-C contiguous array by\n",
      "descriptor assignment is deprecated. To maintain\n",
      "the Fortran contiguity of a multidimensional Fortran\n",
      "array, use 'a.T.view(...).T' instead\n",
      "  obj_bytes_view = obj.view(self.np.uint8)\n",
      "/home/sichom/software/miniconda/envs/antidecoys-analysis/lib/python3.5/site-packages/sklearn/externals/joblib/hashing.py:197: DeprecationWarning: Changing the shape of non-C contiguous array by\n",
      "descriptor assignment is deprecated. To maintain\n",
      "the Fortran contiguity of a multidimensional Fortran\n",
      "array, use 'a.T.view(...).T' instead\n",
      "  obj_bytes_view = obj.view(self.np.uint8)\n",
      "/home/sichom/software/miniconda/envs/antidecoys-analysis/lib/python3.5/site-packages/sklearn/externals/joblib/hashing.py:197: DeprecationWarning: Changing the shape of non-C contiguous array by\n",
      "descriptor assignment is deprecated. To maintain\n",
      "the Fortran contiguity of a multidimensional Fortran\n",
      "array, use 'a.T.view(...).T' instead\n",
      "  obj_bytes_view = obj.view(self.np.uint8)\n",
      "/home/sichom/software/miniconda/envs/antidecoys-analysis/lib/python3.5/site-packages/sklearn/externals/joblib/hashing.py:197: DeprecationWarning: Changing the shape of non-C contiguous array by\n",
      "descriptor assignment is deprecated. To maintain\n",
      "the Fortran contiguity of a multidimensional Fortran\n",
      "array, use 'a.T.view(...).T' instead\n",
      "  obj_bytes_view = obj.view(self.np.uint8)\n"
     ]
    },
    {
     "data": {
      "text/plain": [
       "((814, 814), (776, 776))"
      ]
     },
     "execution_count": 5,
     "metadata": {},
     "output_type": "execute_result"
    }
   ],
   "source": [
    "from sklearn.metrics.pairwise import pairwise_distances\n",
    "\n",
    "dist_matrix_anti = pairwise_distances(data[data['Type'] == 1].iloc[:,2:], metric='jaccard', n_jobs=2)\n",
    "dist_matrix_bi = pairwise_distances(data[data['Type'] == 0].iloc[:,2:], metric='jaccard', n_jobs=2)\n",
    "dist_matrix_anti.shape, dist_matrix_bi.shape"
   ]
  },
  {
   "cell_type": "code",
   "execution_count": 9,
   "metadata": {
    "collapsed": false
   },
   "outputs": [
    {
     "data": {
      "text/plain": [
       "(0.59374940191533554, 0.58511603334158924)"
      ]
     },
     "execution_count": 9,
     "metadata": {},
     "output_type": "execute_result"
    }
   ],
   "source": [
    "def avg_dist(dist_matrix):\n",
    "    return dist_matrix.sum() / (dist_matrix.shape[0]**2 - dist_matrix.shape[0])\n",
    "\n",
    "avg_dist(dist_matrix_anti), avg_dist(dist_matrix_bi)"
   ]
  },
  {
   "cell_type": "code",
   "execution_count": null,
   "metadata": {
    "collapsed": true
   },
   "outputs": [],
   "source": [
    "from matplotlib import pyplot as plt\n",
    "from utils import do_PCA, plot_eigenvalues\n",
    "\n",
    "pca_data, eigvals = do_PCA(data.iloc[:,2:])"
   ]
  },
  {
   "cell_type": "code",
   "execution_count": null,
   "metadata": {
    "collapsed": false
   },
   "outputs": [],
   "source": [
    "%matplotlib inline\n",
    "plot_eigenvalues(eigvals)"
   ]
  },
  {
   "cell_type": "code",
   "execution_count": null,
   "metadata": {
    "collapsed": false
   },
   "outputs": [],
   "source": [
    "from utils import plot_PCA_2D, plot_PCA_3D\n",
    "plot_PCA_2D(pca_data, data.Type) # antidecoys algorithm is shown in green"
   ]
  },
  {
   "cell_type": "code",
   "execution_count": null,
   "metadata": {
    "collapsed": true
   },
   "outputs": [],
   "source": []
  }
 ],
 "metadata": {
  "kernelspec": {
   "display_name": "Python 3",
   "language": "python",
   "name": "python3"
  },
  "language_info": {
   "codemirror_mode": {
    "name": "ipython",
    "version": 3
   },
   "file_extension": ".py",
   "mimetype": "text/x-python",
   "name": "python",
   "nbconvert_exporter": "python",
   "pygments_lexer": "ipython3",
   "version": "3.5.2"
  }
 },
 "nbformat": 4,
 "nbformat_minor": 0
}
